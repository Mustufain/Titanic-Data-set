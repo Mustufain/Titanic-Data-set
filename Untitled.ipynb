{
 "cells": [
  {
   "cell_type": "code",
   "execution_count": 1,
   "metadata": {
    "collapsed": false
   },
   "outputs": [
    {
     "data": {
      "image/png": "[encoded data removed]",
      "text/plain": [
       "<matplotlib.figure.Figure at 0x7fc3d0f94910>"
      ]
     },
     "metadata": {},
     "output_type": "display_data"
    }
   ],
   "source": [
    "import pandas as pd \n",
    "import matplotlib.pyplot as plt\n",
    "import seaborn as sns\n",
    "import string\n",
    "\n",
    "train=pd.read_csv('train.csv')\n",
    "plt.hist(train['Survived'])\n",
    "plt.ylabel('Passengers')\n",
    "plt.xlabel('Survived')\n",
    "plt.show()"
   ]
  },
  {
   "cell_type": "code",
   "execution_count": 2,
   "metadata": {
    "collapsed": false
   },
   "outputs": [
    {
     "name": "stdout",
     "output_type": "stream",
     "text": [
      "PassengerId      0\n",
      "Survived         0\n",
      "Pclass           0\n",
      "Name             0\n",
      "Sex              0\n",
      "Age            177\n",
      "SibSp            0\n",
      "Parch            0\n",
      "Ticket           0\n",
      "Fare             0\n",
      "Cabin          687\n",
      "Embarked         2\n",
      "dtype: int64\n",
      "             PassengerId  Survived    Pclass       Age     SibSp     Parch  \\\n",
      "PassengerId     1.000000 -0.005007 -0.035144  0.036847 -0.057527 -0.001652   \n",
      "Survived       -0.005007  1.000000 -0.338481 -0.077221 -0.035322  0.081629   \n",
      "Pclass         -0.035144 -0.338481  1.000000 -0.369226  0.083081  0.018443   \n",
      "Age             0.036847 -0.077221 -0.369226  1.000000 -0.308247 -0.189119   \n",
      "SibSp          -0.057527 -0.035322  0.083081 -0.308247  1.000000  0.414838   \n",
      "Parch          -0.001652  0.081629  0.018443 -0.189119  0.414838  1.000000   \n",
      "Fare            0.012658  0.257307 -0.549500  0.096067  0.159651  0.216225   \n",
      "\n",
      "                 Fare  \n",
      "PassengerId  0.012658  \n",
      "Survived     0.257307  \n",
      "Pclass      -0.549500  \n",
      "Age          0.096067  \n",
      "SibSp        0.159651  \n",
      "Parch        0.216225  \n",
      "Fare         1.000000  \n"
     ]
    }
   ],
   "source": [
    "#Initial exploratory Analysis\n",
    "\n",
    "\n",
    "print (train.isnull().sum())  #Columns which have null values\n",
    "print (train.corr()) #Correlation matrix"
   ]
  },
  {
   "cell_type": "code",
   "execution_count": 3,
   "metadata": {
    "collapsed": false
   },
   "outputs": [
    {
     "name": "stdout",
     "output_type": "stream",
     "text": [
      "   Pclass  Survived\n",
      "0       1  0.629630\n",
      "1       2  0.472826\n",
      "2       3  0.242363\n"
     ]
    }
   ],
   "source": [
    "#Now we will look each feature one by one \n",
    "pclass_survived = train[['Pclass', 'Survived']].groupby(['Pclass'], as_index=False).mean().sort_values(\n",
    "        by='Survived',\n",
    "        ascending=False)   \n",
    "print (pclass_survived)    \n",
    "#It shows that Pclass is highly correlated with Survived so we include this in our model"
   ]
  },
  {
   "cell_type": "code",
   "execution_count": 4,
   "metadata": {
    "collapsed": false
   },
   "outputs": [
    {
     "name": "stdout",
     "output_type": "stream",
     "text": [
      "count                           891\n",
      "unique                          891\n",
      "top       Graham, Mr. George Edward\n",
      "freq                              1\n",
      "Name: Name, dtype: object\n"
     ]
    }
   ],
   "source": [
    "#Now lets us look at Name\n",
    "print (train['Name'].describe())"
   ]
  },
  {
   "cell_type": "code",
   "execution_count": 7,
   "metadata": {
    "collapsed": false
   },
   "outputs": [
    {
     "name": "stdout",
     "output_type": "stream",
     "text": [
      "   Name_Engineered  Survived\n",
      "2                3  1.000000\n",
      "1                2  0.701657\n",
      "3                4  0.575000\n",
      "0                1  0.282282\n"
     ]
    }
   ],
   "source": [
    "#We would replace each Name with its title\n",
    "train['Title']=''\n",
    "#Removing punctuation\n",
    "train['Name'] = train['Name'].apply(lambda row: row.translate(None,string.punctuation))\n",
    "title=['Mr','Miss','Mrs','Master','Major','Capt','Col','Rev','Don', 'Jonkheer','Sir','Mlle','Ms','the Countess', \n",
    "       'Mme','Lady','Dr', 'Unknown']\n",
    "#Mr,Mrs,Miss,Master,Unknown\n",
    "for index,row in train.iterrows():\n",
    "    \n",
    "\n",
    "    if  title[0] in row['Name']:\n",
    "\n",
    "        train.set_value(index,'Title',title[0])\n",
    "\n",
    "    elif title[1] in row['Name']:\n",
    "\n",
    "        train.set_value(index,'Title',title[1])\n",
    "\n",
    "    elif title[2] in row['Name']:\n",
    "         \n",
    "        train.set_value(index, 'Title',title[2])\n",
    "\n",
    "    elif title[3] in row['Name']:\n",
    "\n",
    "         train.set_value(index,'Title',title[3])\n",
    "\n",
    "    elif title[4] in row['Name']:\n",
    "\n",
    "         train.set_value(index,'Title',title[0])\n",
    "\n",
    "    elif title[5] in row['Name']:\n",
    "\n",
    "         train.set_value(index, 'Title',title[0])\n",
    "\n",
    "    elif title[6] in row['Name']:\n",
    "\n",
    "         train.set_value(index,'Title',title[0])\n",
    "\n",
    "    elif title[7] in row['Name']:\n",
    "\n",
    "         train.set_value(index,'Title',title[0])\n",
    "\n",
    "    elif title[8] in row['Name']:\n",
    "\n",
    "         train.set_value(index,'Title',title[0])\n",
    "   \n",
    "    elif title[9] in row['Name']:\n",
    "       \n",
    "        train.set_value(index,'Title',title[0])\n",
    "    \n",
    "    \n",
    "    elif title[10] in row['Name']:\n",
    "       \n",
    "        train.set_value(index,'Title',title[0])\n",
    "    \n",
    "    elif title[11] in row['Name']:\n",
    "       \n",
    "        train.set_value(index,'Title',title[2])\n",
    "    \n",
    "    elif title[12] in row['Name']:\n",
    "       \n",
    "        train.set_value(index,'Title',title[2])\n",
    "  \n",
    "    elif title[13] in row['Name']:\n",
    "       \n",
    "        train.set_value(index,'Title',title[2])\n",
    "    \n",
    "    elif title[14] in row['Name']:\n",
    "       \n",
    "        train.set_value(index,'Title',title[1])\n",
    "    \n",
    "    elif title[15] in row['Name']:\n",
    "       \n",
    "        train.set_value(index,'Title',title[1])\n",
    "    \n",
    "    elif title[16] in row['Name']:\n",
    "       \n",
    "        if row['Sex'] == 'male':\n",
    "            \n",
    "            train.set_value(index,'Title',title[0])\n",
    "        \n",
    "        else:\n",
    "            \n",
    "            train.set_value(index,'Title',title[2])\n",
    "    else:\n",
    "\n",
    "        train.set_value(index,'Title',title[17])\n",
    "\n",
    "\n",
    "#Now we have converted it into a categorical variable\n",
    "#Now we will convert it into ordinal\n",
    "\n",
    "Title={'Mr':1,'Miss':2,'Mrs':3,'Master':4,'Unknowm':5}\n",
    "train['Name_Engineered'] = train['Title'].apply(lambda row : Title[row])\n",
    "\n",
    "Name_survived = train[['Name_Engineered', 'Survived']].groupby(['Name_Engineered'], as_index=False).mean().sort_values(\n",
    "        by='Survived',\n",
    "        ascending=False)   \n",
    "print (Name_survived)    \n",
    "\n",
    "#It shows that Mrs has most tendency to Survive\n",
    "#Mr has least tendency to Survive\n",
    "\n",
    "g = sns.FacetGrid(train, col='Survived',size=2.2,aspect=1.6)\n",
    "g.map(plt.hist, 'Name_Engineered',alpha=.5, bins=20)\n",
    "g.add_legend()\n",
    "g.savefig(\"Name_Survived.png\")"
   ]
  },
  {
   "cell_type": "code",
   "execution_count": 8,
   "metadata": {
    "collapsed": false
   },
   "outputs": [
    {
     "name": "stdout",
     "output_type": "stream",
     "text": [
      "   Sex_Engineered  Survived\n",
      "1               1  0.742038\n",
      "0               0  0.188908\n"
     ]
    }
   ],
   "source": [
    "#Now we will deal with Sex\n",
    "#We will do label enconding of this categorical variable\n",
    "train['Sex_Engineered'] = train['Sex'].apply(lambda row : 0 if row=='male' else 1  )\n",
    "Sex_survived = train[['Sex_Engineered', 'Survived']].groupby(['Sex_Engineered'], as_index=False).mean().sort_values(\n",
    "        by='Survived',\n",
    "        ascending=False) \n",
    "print (Sex_survived)\n",
    "#Female = 1 \n",
    "#Male = 0\n",
    "#It shows that Females have higher tendency to survive than males\n",
    "g = sns.FacetGrid(train, col='Survived',size=2.2,aspect=1.6)\n",
    "g.map(plt.hist, 'Sex_Engineered',alpha=.5, bins=20)\n",
    "g.add_legend()\n",
    "g.savefig(\"Sex_Survived.png\")"
   ]
  },
  {
   "cell_type": "code",
   "execution_count": 9,
   "metadata": {
    "collapsed": true
   },
   "outputs": [],
   "source": [
    "#Now we will deal with Age\n",
    "#Note it has null values\n",
    "g = sns.FacetGrid(train, col='Survived',size=2.2,aspect=1.6)\n",
    "g.map(plt.hist, 'Age',alpha=.5, bins=20)\n",
    "g.add_legend()\n",
    "g.savefig(\"Age_Survived\")\n",
    "\n",
    "#now lets analyse where Survived = 0 (Those who donot have survived)\n",
    "\n",
    "#majority of the age of passengers who didnot survived lies between 15-30\n",
    "#majority of the age of passengers who survived lies between 20-40 "
   ]
  },
  {
   "cell_type": "code",
   "execution_count": 10,
   "metadata": {
    "collapsed": true
   },
   "outputs": [],
   "source": [
    "#Now we want to deal with missing values in Age\n",
    "#There are various methods like filling it with zero or assigning average value of the age to missing value.\n",
    "#However we want the model to recognize these missing values as missing value so I would give such a number which \n",
    "#doesnot exist in the training set.\n",
    "#I have used this approach for a number of competitions and it actually works\n",
    "#Age can never be negative so we can assign a negative value of 1 to the missing value in age so that our model \n",
    "#recognizes this\n",
    "\n",
    "train['Age'].fillna(-1,inplace=True)"
   ]
  },
  {
   "cell_type": "code",
   "execution_count": 11,
   "metadata": {
    "collapsed": false
   },
   "outputs": [
    {
     "name": "stdout",
     "output_type": "stream",
     "text": [
      "   SibSp  Survived\n",
      "1      1  0.535885\n",
      "2      2  0.464286\n",
      "0      0  0.345395\n",
      "3      3  0.250000\n",
      "4      4  0.166667\n",
      "5      5  0.000000\n",
      "6      8  0.000000\n",
      "   Parch  Survived\n",
      "3      3  0.600000\n",
      "1      1  0.550847\n",
      "2      2  0.500000\n",
      "0      0  0.343658\n",
      "5      5  0.200000\n",
      "4      4  0.000000\n",
      "6      6  0.000000\n"
     ]
    }
   ],
   "source": [
    "#Next is SibSp and Parch\n",
    "#SibSp is no of siblings / spouses aboard the Titanic\n",
    "#Parch is no of of parents / children aboard the Titanic \n",
    "\n",
    "SibSp_survived = train[['SibSp', 'Survived']].groupby(['SibSp'], as_index=False).mean().sort_values(\n",
    "        by='Survived',\n",
    "        ascending=False) \n",
    "print (SibSp_survived)\n",
    "\n",
    "\n",
    "Parch_survived = train[['Parch', 'Survived']].groupby(['Parch'], as_index=False).mean().sort_values(\n",
    "        by='Survived',\n",
    "        ascending=False) \n",
    "print (Parch_survived)\n",
    "\n",
    "#There seems to be no correlation between these features and Survived so we will transform them"
   ]
  },
  {
   "cell_type": "code",
   "execution_count": 12,
   "metadata": {
    "collapsed": false
   },
   "outputs": [
    {
     "name": "stdout",
     "output_type": "stream",
     "text": [
      "   IsAlone  Survived\n",
      "0        0  0.505650\n",
      "1        1  0.303538\n"
     ]
    }
   ],
   "source": [
    "#Some children travelled only with a nanny, therefore parch=0 for them.\n",
    "#so we we create a new feature called Alone\n",
    "#It means that we would see wether passenger is travelling alone or not\n",
    "#First we would devise the family size\n",
    "# passenger + SibSp + Parch = FamilySize\n",
    "train['FamilySize']=''\n",
    "train['IsAlone']=''\n",
    "\n",
    "train['FamilySize']=train.apply(lambda row: str(int(row['Parch']) + int(row['SibSp'])+1),axis=1)\n",
    "#if family size is 1 it means that passenger is travelling alone\n",
    "train['IsAlone'] = train.apply(lambda row: 1 if int(row['FamilySize'])==1 else 0,axis=1)\n",
    "\n",
    "#Since both the feature convey same information we will drop FamilySize\n",
    "\n",
    "train = train.drop(['FamilySize'],axis=1)\n",
    "Alone_survived = train[['IsAlone', 'Survived']].groupby(['IsAlone'], as_index=False).mean().sort_values(\n",
    "        by='Survived',\n",
    "        ascending=False) \n",
    "print (Alone_survived)\n",
    "#You can see that if the passenger is traveling alone (1) then there are less  chances he will survive\n",
    "#One the other hand if the passenger is not travelling alone more chances he will survive\n",
    "g = sns.FacetGrid(train, col='Survived',size=2.2,aspect=1.6)\n",
    "g.map(plt.hist, 'IsAlone',alpha=.5, bins=20)\n",
    "g.add_legend()\n",
    "g.savefig(\"IsAlone_Survived.png\")"
   ]
  },
  {
   "cell_type": "code",
   "execution_count": 13,
   "metadata": {
    "collapsed": false
   },
   "outputs": [
    {
     "name": "stdout",
     "output_type": "stream",
     "text": [
      "count          891\n",
      "unique         681\n",
      "top       CA. 2343\n",
      "freq             7\n",
      "Name: Ticket, dtype: object\n",
      "0           A/5 21171\n",
      "1            PC 17599\n",
      "2    STON/O2. 3101282\n",
      "3              113803\n",
      "4              373450\n",
      "Name: Ticket, dtype: object\n",
      "     Ticket  Survived\n",
      "0    110152       1.0\n",
      "180   26360       1.0\n",
      "483  386525       1.0\n",
      "479  382651       1.0\n",
      "151  244373       1.0\n",
      "152  248698       1.0\n",
      "153  248706       1.0\n",
      "465  370375       1.0\n",
      "157  248733       1.0\n",
      "158  248738       1.0\n",
      "464  370373       1.0\n",
      "461  370370       1.0\n",
      "162  250644       1.0\n",
      "454   36947       1.0\n",
      "165  250648       1.0\n",
      "166  250649       1.0\n",
      "453   36928       1.0\n",
      "168  250652       1.0\n",
      "451   36866       1.0\n",
      "445  367231       1.0\n",
      "171    2620       1.0\n",
      "444  367230       1.0\n",
      "442  367228       1.0\n",
      "174    2625       1.0\n",
      "175    2626       1.0\n",
      "441  367226       1.0\n",
      "432  364516       1.0\n",
      "484  392091       1.0\n",
      "486  392096       1.0\n",
      "489    4134       1.0\n",
      "..      ...       ...\n",
      "356  349209       0.0\n",
      "355  349208       0.0\n",
      "378  349239       0.0\n",
      "380  349241       0.0\n",
      "190    2662       0.0\n",
      "381  349242       0.0\n",
      "404  350042       0.0\n",
      "403  350036       0.0\n",
      "402  350035       0.0\n",
      "192    2664       0.0\n",
      "400  350029       0.0\n",
      "399  350026       0.0\n",
      "398  350025       0.0\n",
      "397  349912       0.0\n",
      "396  349910       0.0\n",
      "395  349909       0.0\n",
      "394  349257       0.0\n",
      "193    2665       0.0\n",
      "392  349254       0.0\n",
      "391  349253       0.0\n",
      "390  349252       0.0\n",
      "389  349251       0.0\n",
      "388  349249       0.0\n",
      "387  349248       0.0\n",
      "386  349247       0.0\n",
      "385  349246       0.0\n",
      "384  349245       0.0\n",
      "197    2669       0.0\n",
      "382  349243       0.0\n",
      "340  347464       0.0\n",
      "\n",
      "[681 rows x 2 columns]\n"
     ]
    }
   ],
   "source": [
    "#Now we will deal with ticket (Ticket Number)\n",
    "#It is alphaNumeric\n",
    "\n",
    "print (train['Ticket'].describe())\n",
    "print (train['Ticket'].head())\n",
    "Ticket_survived = train[['Ticket', 'Survived']].groupby(['Ticket'], as_index=False).mean().sort_values(\n",
    "        by='Survived',\n",
    "        ascending=False) \n",
    "print (Ticket_survived)\n",
    "train=train.drop(['Ticket'],axis=1)\n",
    "#from this you can see that Ticket doesnot have a very significant impact on Survived as there is no correlation \n",
    "#We will not used this in our model prediction"
   ]
  },
  {
   "cell_type": "code",
   "execution_count": 14,
   "metadata": {
    "collapsed": false
   },
   "outputs": [
    {
     "name": "stdout",
     "output_type": "stream",
     "text": [
      "0     7.2500\n",
      "1    71.2833\n",
      "2     7.9250\n",
      "3    53.1000\n",
      "4     8.0500\n",
      "Name: Fare, dtype: float64\n"
     ]
    }
   ],
   "source": [
    "#Next is Fare (Passenger Fare)\n",
    "print (train['Fare'].head())\n",
    "\n",
    "g = sns.FacetGrid(train, col='Survived',size=3.2,aspect=1.6)\n",
    "g.map(plt.hist, 'Fare',alpha=.5, bins=20)\n",
    "g.add_legend()\n",
    "g.savefig(\"Fare_Survived.png\")\n",
    "\n",
    "#You can see that passengers with less fares were in high number who were not survived "
   ]
  },
  {
   "cell_type": "code",
   "execution_count": 15,
   "metadata": {
    "collapsed": false
   },
   "outputs": [
    {
     "name": "stdout",
     "output_type": "stream",
     "text": [
      "0    1\n",
      "1    2\n",
      "2    1\n",
      "3    1\n",
      "4    1\n",
      "Name: Embarked, dtype: int64\n"
     ]
    }
   ],
   "source": [
    "train.fillna(-1,inplace=True)\n",
    "train.Embarked.replace(['S', 'C','Q'], [1, 2,3], inplace=True)\n",
    "print (train.Embarked.head())\n",
    "g = sns.FacetGrid(train, col='Survived',size=3.2,aspect=1.6)\n",
    "g.map(plt.hist, 'Embarked',alpha=.5, bins=20)\n",
    "g.add_legend()\n",
    "g.savefig(\"Embarked_Survived.png\")"
   ]
  },
  {
   "cell_type": "code",
   "execution_count": 16,
   "metadata": {
    "collapsed": false
   },
   "outputs": [
    {
     "name": "stdout",
     "output_type": "stream",
     "text": [
      "['Survived', 'Pclass', 'Age', 'Fare', 'Embarked', 'Name_Engineered', 'Sex_Engineered', 'IsAlone']\n"
     ]
    }
   ],
   "source": [
    "train=train.drop(['PassengerId','Name','Sex','SibSp','Parch','Cabin','Title'],axis=1)\n",
    "print (list(train))\n"
   ]
  },
  {
   "cell_type": "code",
   "execution_count": 17,
   "metadata": {
    "collapsed": false
   },
   "outputs": [
    {
     "name": "stderr",
     "output_type": "stream",
     "text": [
      "/home/mustufain/.local/lib/python2.7/site-packages/sklearn/cross_validation.py:44: DeprecationWarning: This module was deprecated in version 0.18 in favor of the model_selection module into which all the refactored classes and functions are moved. Also note that the interface of the new CV iterators are different from that of this module. This module will be removed in 0.20.\n",
      "  \"This module will be removed in 0.20.\", DeprecationWarning)\n"
     ]
    },
    {
     "name": "stdout",
     "output_type": "stream",
     "text": [
      "('Accuracy', 82.493252149896421)\n"
     ]
    }
   ],
   "source": [
    "#Model Prediction\n",
    "#We will be using XGBoost which is basically a boosting technique and is one of my favorite ensemble method :)\n",
    "import numpy as np\n",
    "from sklearn.model_selection import KFold\n",
    "from sklearn.metrics import accuracy_score\n",
    "import xgboost as xg\n",
    "\n",
    "target = np.array(train.Survived)\n",
    "Features=np.array(train.loc[:,['Pclass','Age','Fare','Embarked','Name_Engineered','Sex_Engineered','IsAlone']])\n",
    "\n",
    "xg_boost=xg.XGBClassifier(learning_rate =0.1,\n",
    "             n_estimators=251,\n",
    "             max_depth=10,\n",
    "             min_child_weight=1,\n",
    "             gamma=0.5,\n",
    "             subsample=0.8,\n",
    "             colsample_bytree=0.8,\n",
    "             objective= 'binary:logistic',\n",
    "             nthread=-1,\n",
    "             scale_pos_weight=1,\n",
    "             seed=27)\n",
    "\n",
    "AUC=[]\n",
    "kf = KFold(n_splits=5)    #----------> 5 fold cross validation\n",
    "for train_index, test_index in kf.split(Features):\n",
    "\n",
    "    X_train, X_test = Features[train_index], Features[test_index]\n",
    "    y_train, y_test = target[train_index], target[test_index]\n",
    "    xg_boost.fit(X_train, y_train)\n",
    "    y_pred = xg_boost.predict(X_test)\n",
    "    AUC.append(accuracy_score(y_test, y_pred))\n",
    "\n",
    "print (\"Accuracy\", np.mean(AUC)*100)"
   ]
  },
  {
   "cell_type": "code",
   "execution_count": null,
   "metadata": {
    "collapsed": true
   },
   "outputs": [],
   "source": []
  }
 ],
 "metadata": {
  "kernelspec": {
   "display_name": "Python 2",
   "language": "python",
   "name": "python2"
  },
  "language_info": {
   "codemirror_mode": {
    "name": "ipython",
    "version": 2
   },
   "file_extension": ".py",
   "mimetype": "text/x-python",
   "name": "python",
   "nbconvert_exporter": "python",
   "pygments_lexer": "ipython2",
   "version": "2.7.12"
  }
 },
 "nbformat": 4,
 "nbformat_minor": 2
}
